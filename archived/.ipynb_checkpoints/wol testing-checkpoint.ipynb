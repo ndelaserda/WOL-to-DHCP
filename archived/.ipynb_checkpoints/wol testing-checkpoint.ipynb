{
 "cells": [
  {
   "cell_type": "code",
   "execution_count": 3,
   "metadata": {},
   "outputs": [
    {
     "ename": "SyntaxError",
     "evalue": "invalid syntax (<ipython-input-3-d0e2e8a29039>, line 9)",
     "output_type": "error",
     "traceback": [
      "\u001b[0;36m  File \u001b[0;32m\"<ipython-input-3-d0e2e8a29039>\"\u001b[0;36m, line \u001b[0;32m9\u001b[0m\n\u001b[0;31m    name += line(:6:-1)\u001b[0m\n\u001b[0m                 ^\u001b[0m\n\u001b[0;31mSyntaxError\u001b[0m\u001b[0;31m:\u001b[0m invalid syntax\n"
     ]
    }
   ],
   "source": [
    "computer_list = {}\n",
    "name = ''\n",
    "mac = ''\n",
    "\n",
    "\n",
    "\n",
    "for line in open('wakeonlan.xml'):\n",
    "    if 'Name' in line:\n",
    "        name += line(:6:-1)\n",
    "        print(name)\n",
    "    elif 'MAC' in line:\n",
    "        print(line)"
   ]
  },
  {
   "cell_type": "code",
   "execution_count": null,
   "metadata": {},
   "outputs": [],
   "source": []
  }
 ],
 "metadata": {
  "kernelspec": {
   "display_name": "Python 3",
   "language": "python",
   "name": "python3"
  },
  "language_info": {
   "codemirror_mode": {
    "name": "ipython",
    "version": 3
   },
   "file_extension": ".py",
   "mimetype": "text/x-python",
   "name": "python",
   "nbconvert_exporter": "python",
   "pygments_lexer": "ipython3",
   "version": "3.7.4"
  }
 },
 "nbformat": 4,
 "nbformat_minor": 2
}
