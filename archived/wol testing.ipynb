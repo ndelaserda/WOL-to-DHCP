{
 "cells": [
  {
   "cell_type": "code",
   "execution_count": 68,
   "metadata": {},
   "outputs": [
    {
     "name": "stdout",
     "output_type": "stream",
     "text": [
      "['TCHS 1', '94c69180eb02', 'TCHS 10', '94c69180f33f', 'TCHS 11', '94c69180f4fc', 'TCHS 12', '94c69180f49e', 'TCHS 13', '94c69180ec5d', 'TCHS 14', '94c69180fdd3', 'TCHS 15', '94c69180e9af', 'TCHS 16', '94c69180f187', 'TCHS 17', '94c69180fa11', 'TCHS 18', '94c6917c0b88', 'TCHS 19', '94c69178db54', 'TCHS 2', '94c69180fafb', 'TCHS 20', '94c6917c0bda', 'TCHS 21', '94c6917deded', 'TCHS 22', '94c6917dd949', 'TCHS 23', '94c69180fcc0', 'TCHS 24', '94c69180f4b6', 'TCHS 3', '94c6917df3ee', 'TCHS 4', '94c69180ede2', 'TCHS 5', '94c69180fa8e', 'TCHS 6', '94c69180ea71', 'TCHS 7', '94c69180f3c4', 'TCHS 8', '94c6917a3755', 'TCHS 9', '94c69180fa2d', 'TCHS 25', '94c69180f360']\n",
      "['10.85.64.100', '10.85.64.101', '10.85.64.102', '10.85.64.103', '10.85.64.104', '10.85.64.105', '10.85.64.106', '10.85.64.107', '10.85.64.108', '10.85.64.109', '10.85.64.110', '10.85.64.111', '10.85.64.112', '10.85.64.113', '10.85.64.114', '10.85.64.115', '10.85.64.116', '10.85.64.117', '10.85.64.118', '10.85.64.119', '10.85.64.120', '10.85.64.121', '10.85.64.122', '10.85.64.123', '10.85.64.124']\n"
     ]
    }
   ],
   "source": [
    "# This script only works based on the criteria of the xml file in this list. I will later comback and optimize\n",
    "# it so that whatever is inbetween the opening and closing tags will be scraped rather then based of length\n",
    "\n",
    "computer_list = []\n",
    "\n",
    "\n",
    "\n",
    "for line in open('wakeonlan.xml'):\n",
    "    name = ''\n",
    "    mac = ''\n",
    "    if 'Name' in line:\n",
    "        name += line[10:]\n",
    "        name = name[:-8]\n",
    "        computer_list.append(name)\n",
    "    elif 'MAC' in line:\n",
    "        mac += line[9:]\n",
    "        mac = mac[:-7]\n",
    "        computer_list.append(mac)\n",
    "        \n",
    "print(computer_list)\n",
    "\n",
    "ip_scope = '10.85.64.0'\n",
    "ip_address = []\n",
    "\n",
    "for x in range(100,125):\n",
    "    ip_address.append('10.85.64.'+str(x))\n",
    "    \n",
    "print(ip_address)\n",
    "\n",
    "\n",
    "\n",
    "batch_file = open('batch.txt','w+')\n",
    "\n",
    "\n",
    "counter = 0 \n",
    "for x in range(len(ip_address)):\n",
    "    if x != len(ip_address)-1:\n",
    "        batch_file.write('\\n'+ip_scope+','+ip_address[x]+','+computer_list[counter]+','+computer_list[counter+1])\n",
    "    counter += 2\n",
    "    \n"
   ]
  },
  {
   "cell_type": "code",
   "execution_count": null,
   "metadata": {},
   "outputs": [],
   "source": []
  },
  {
   "cell_type": "code",
   "execution_count": null,
   "metadata": {},
   "outputs": [],
   "source": []
  }
 ],
 "metadata": {
  "kernelspec": {
   "display_name": "Python 3",
   "language": "python",
   "name": "python3"
  },
  "language_info": {
   "codemirror_mode": {
    "name": "ipython",
    "version": 3
   },
   "file_extension": ".py",
   "mimetype": "text/x-python",
   "name": "python",
   "nbconvert_exporter": "python",
   "pygments_lexer": "ipython3",
   "version": "3.7.4"
  }
 },
 "nbformat": 4,
 "nbformat_minor": 2
}
